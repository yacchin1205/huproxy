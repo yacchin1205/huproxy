{
 "cells": [
  {
   "cell_type": "code",
   "execution_count": null,
   "id": "c1da76a4-28df-40ae-9a59-2414acc3a35d",
   "metadata": {},
   "outputs": [],
   "source": [
    "notebook_url = input()"
   ]
  },
  {
   "cell_type": "code",
   "execution_count": null,
   "id": "fa7405da-5efe-4756-9214-89b337328d8e",
   "metadata": {},
   "outputs": [],
   "source": [
    "from urllib.parse import urlparse\n",
    "\n",
    "parsed_uri = urlparse(notebook_url)\n",
    "base_uri = '{uri.scheme}://{uri.netloc}/'.format(uri=parsed_uri)\n",
    "hostname = parsed_uri.netloc\n",
    "(hostname, base_uri)"
   ]
  },
  {
   "cell_type": "code",
   "execution_count": null,
   "id": "a5d714f7-5e73-4ffd-b926-3e06ff3fcb0f",
   "metadata": {},
   "outputs": [],
   "source": [
    "print(f'{base_uri}hub/token')"
   ]
  },
  {
   "cell_type": "code",
   "execution_count": null,
   "id": "384dec36-a75a-4276-bba9-9a2cb2988e69",
   "metadata": {},
   "outputs": [],
   "source": [
    "from getpass import getpass\n",
    "token = getpass(prompt='JupyterHub Token')"
   ]
  },
  {
   "cell_type": "code",
   "execution_count": null,
   "id": "d8304f2f-f975-42b8-88c3-310f32f995f6",
   "metadata": {},
   "outputs": [],
   "source": [
    "import os\n",
    "\n",
    "prefix = os.environ['JUPYTERHUB_SERVICE_PREFIX']\n",
    "server_name = os.environ['JUPYTERHUB_SERVER_NAME']\n",
    "\n",
    "assert base_uri.startswith('http')\n",
    "ws_url = 'ws' + base_uri[4:] + prefix.lstrip('/')\n",
    "\n",
    "print(f'''\n",
    "Host {server_name}.{hostname}\n",
    "    ProxyCommand docker run --rm --entrypoint /opt/huproxy/bin/huproxyclient -i yacchin1205/huproxy -token={token} {ws_url}/huproxy/localhost/2222\n",
    "''')"
   ]
  },
  {
   "cell_type": "code",
   "execution_count": null,
   "id": "7fa4a650-b7b0-4046-8c8c-48aa9bd6e75e",
   "metadata": {},
   "outputs": [],
   "source": [
    "!whoami"
   ]
  },
  {
   "cell_type": "code",
   "execution_count": null,
   "id": "5abfef3c-c745-493c-a711-58f708deb532",
   "metadata": {},
   "outputs": [],
   "source": []
  }
 ],
 "metadata": {
  "kernelspec": {
   "display_name": "Python 3 (ipykernel)",
   "language": "python",
   "name": "python3"
  },
  "language_info": {
   "codemirror_mode": {
    "name": "ipython",
    "version": 3
   },
   "file_extension": ".py",
   "mimetype": "text/x-python",
   "name": "python",
   "nbconvert_exporter": "python",
   "pygments_lexer": "ipython3",
   "version": "3.12.9"
  }
 },
 "nbformat": 4,
 "nbformat_minor": 5
}
