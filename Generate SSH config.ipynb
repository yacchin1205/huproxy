{
 "cells": [
  {
   "cell_type": "code",
   "execution_count": null,
   "id": "c1da76a4-28df-40ae-9a59-2414acc3a35d",
   "metadata": {},
   "outputs": [],
   "source": [
    "notebook_url = input()"
   ]
  },
  {
   "cell_type": "code",
   "execution_count": null,
   "id": "fa7405da-5efe-4756-9214-89b337328d8e",
   "metadata": {},
   "outputs": [],
   "source": [
    "from urllib.parse import urlparse\n",
    "\n",
    "parsed_uri = urlparse(notebook_url)\n",
    "base_uri = '{uri.scheme}://{uri.netloc}/'.format(uri=parsed_uri)\n",
    "hostname = parsed_uri.netloc\n",
    "(hostname, base_uri)"
   ]
  },
  {
   "cell_type": "code",
   "execution_count": null,
   "id": "a5d714f7-5e73-4ffd-b926-3e06ff3fcb0f",
   "metadata": {},
   "outputs": [],
   "source": [
    "print(f'{base_uri}hub/token')"
   ]
  },
  {
   "cell_type": "code",
   "execution_count": null,
   "id": "384dec36-a75a-4276-bba9-9a2cb2988e69",
   "metadata": {},
   "outputs": [],
   "source": [
    "from getpass import getpass\n",
    "token = getpass(prompt='JupyterHub Token')"
   ]
  },
  {
   "cell_type": "code",
   "execution_count": null,
   "id": "d8304f2f-f975-42b8-88c3-310f32f995f6",
   "metadata": {},
   "outputs": [],
   "source": [
    "import os\n",
    "\n",
    "prefix = os.environ['JUPYTERHUB_SERVICE_PREFIX']\n",
    "server_name = os.environ['JUPYTERHUB_SERVER_NAME']\n",
    "\n",
    "assert base_uri.startswith('http')\n",
    "ws_url = 'ws' + base_uri[4:] + prefix.lstrip('/')\n",
    "\n",
    "print(f'''\n",
    "Host {server_name}.{hostname}\n",
    "    ProxyCommand docker run --rm --entrypoint /opt/huproxy/bin/huproxyclient -i yacchin1205/huproxy -token={token} {ws_url}/huproxy/localhost/2222\n",
    "''')"
   ]
  },
  {
   "cell_type": "code",
   "execution_count": null,
   "id": "7fa4a650-b7b0-4046-8c8c-48aa9bd6e75e",
   "metadata": {},
   "outputs": [],
   "source": [
    "user = !whoami\n",
    "user = user[0]\n",
    "user"
   ]
  },
  {
   "cell_type": "code",
   "execution_count": null,
   "id": "5abfef3c-c745-493c-a711-58f708deb532",
   "metadata": {},
   "outputs": [],
   "source": [
    "authorized_keys = input()"
   ]
  },
  {
   "cell_type": "code",
   "execution_count": null,
   "id": "b481f6dc-eba5-4d2f-a56d-8dccb8e18e53",
   "metadata": {},
   "outputs": [],
   "source": [
    "!mkdir -p ~/.ssh"
   ]
  },
  {
   "cell_type": "code",
   "execution_count": null,
   "id": "515cf7f0-9900-4770-a125-a4abcc3e3ebf",
   "metadata": {},
   "outputs": [],
   "source": [
    "!chmod 700 ~/.ssh"
   ]
  },
  {
   "cell_type": "code",
   "execution_count": null,
   "id": "ec938fb4-594e-4ffb-a0b8-217fb2ef80cc",
   "metadata": {},
   "outputs": [],
   "source": [
    "!echo '{authorized_keys}' >> ~/.ssh/authorized_keys"
   ]
  },
  {
   "cell_type": "code",
   "execution_count": null,
   "id": "b337dd54-f235-4c0b-9847-e52063816ba6",
   "metadata": {},
   "outputs": [],
   "source": [
    "!chmod 600 ~/.ssh/authorized_keys"
   ]
  },
  {
   "cell_type": "code",
   "execution_count": null,
   "id": "22765ce0-e7b0-4bcc-989b-890f30f6fd7b",
   "metadata": {},
   "outputs": [],
   "source": [
    "print(f'ssh {user}@{server_name}.{hostname}')"
   ]
  },
  {
   "cell_type": "markdown",
   "id": "9ce2a126-cbf8-4525-b94b-4a5bb1c92352",
   "metadata": {},
   "source": [
    "VSCodeは..."
   ]
  },
  {
   "cell_type": "code",
   "execution_count": null,
   "id": "79040f91-29d1-4634-a17d-9b184e3459c2",
   "metadata": {},
   "outputs": [],
   "source": [
    "print(f'ssh {user}@{server_name}.{hostname} -A')"
   ]
  }
 ],
 "metadata": {
  "kernelspec": {
   "display_name": "Python 3 (ipykernel)",
   "language": "python",
   "name": "python3"
  },
  "language_info": {
   "codemirror_mode": {
    "name": "ipython",
    "version": 3
   },
   "file_extension": ".py",
   "mimetype": "text/x-python",
   "name": "python",
   "nbconvert_exporter": "python",
   "pygments_lexer": "ipython3",
   "version": "3.12.9"
  }
 },
 "nbformat": 4,
 "nbformat_minor": 5
}
